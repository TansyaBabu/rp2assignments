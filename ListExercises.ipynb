{
  "cells": [
    {
      "cell_type": "code",
      "execution_count": null,
      "id": "a500643f-ceb3-454d-a528-cbd3716c16e3",
      "metadata": {
        "id": "a500643f-ceb3-454d-a528-cbd3716c16e3"
      },
      "outputs": [],
      "source": [
        "# 1. Declare an empty list\n",
        "empty_list = []"
      ]
    },
    {
      "cell_type": "code",
      "execution_count": null,
      "id": "ce64b9b4-d594-4698-8c04-6f871ab7af16",
      "metadata": {
        "id": "ce64b9b4-d594-4698-8c04-6f871ab7af16"
      },
      "outputs": [],
      "source": []
    },
    {
      "cell_type": "code",
      "source": [
        "# 2. Declare a list with more than 5 items\n",
        "my_list = [10, 20, 30, 40, 50, 60]"
      ],
      "metadata": {
        "id": "JqLoOT0PV6mU"
      },
      "id": "JqLoOT0PV6mU",
      "execution_count": null,
      "outputs": []
    },
    {
      "cell_type": "code",
      "execution_count": null,
      "id": "60ee73cc-7799-4040-94a2-54968aab9ce0",
      "metadata": {
        "colab": {
          "base_uri": "https://localhost:8080/"
        },
        "id": "60ee73cc-7799-4040-94a2-54968aab9ce0",
        "outputId": "255a13dd-cb66-4355-bcac-7cf056cda270"
      },
      "outputs": [
        {
          "output_type": "stream",
          "name": "stdout",
          "text": [
            "6\n"
          ]
        }
      ],
      "source": [
        "# 3. Find the length of your list\n",
        "list_length = len(my_list)\n",
        "print(list_length)"
      ]
    },
    {
      "cell_type": "code",
      "source": [],
      "metadata": {
        "id": "-fQrwWUkWStN"
      },
      "id": "-fQrwWUkWStN",
      "execution_count": null,
      "outputs": []
    },
    {
      "cell_type": "code",
      "execution_count": null,
      "id": "a717c28b-d4fe-4f2c-b99f-1aaea0c2dc4f",
      "metadata": {
        "colab": {
          "base_uri": "https://localhost:8080/"
        },
        "id": "a717c28b-d4fe-4f2c-b99f-1aaea0c2dc4f",
        "outputId": "38d78aed-e928-4f25-f1ef-61ef93bc02b0"
      },
      "outputs": [
        {
          "output_type": "stream",
          "name": "stdout",
          "text": [
            "First item: 10\n",
            "Middle item: 40\n",
            "Last item: 60\n"
          ]
        }
      ],
      "source": [
        "# 4.Get the first item, the middle item and the last item of the list\n",
        "first_item = my_list[0]\n",
        "middle_item = my_list[len(my_list) // 2] # For lists with an even number of items, this gets the first of the two middle items\n",
        "last_item = my_list[-1]\n",
        "\n",
        "print(\"First item:\", first_item)\n",
        "print(\"Middle item:\", middle_item)\n",
        "print(\"Last item:\", last_item)"
      ]
    },
    {
      "cell_type": "code",
      "execution_count": null,
      "id": "646d4e51-10e2-4781-bedd-2660ae979c81",
      "metadata": {
        "id": "646d4e51-10e2-4781-bedd-2660ae979c81"
      },
      "outputs": [],
      "source": [
        "# 5.Declare a list called mixed_data_types, put your(name, age, height, marital status, address)\n",
        "mixed_data_types = [\"Tansya Babu\", 24, 5.9, \"Single\", \"Kallamparambil h\"]"
      ]
    },
    {
      "cell_type": "code",
      "execution_count": null,
      "id": "644386a3-0af9-4f83-9d33-45d2aaf3139b",
      "metadata": {
        "id": "644386a3-0af9-4f83-9d33-45d2aaf3139b"
      },
      "outputs": [],
      "source": [
        "# 6. Declare a list variable named it_companies and assign initial values\n",
        "# Facebook, Google, Microsoft, Apple, IBM, Oracle and Amazon.\n",
        "it_companies = [\"Facebook\", \"Google\", \"Microsoft\", \"Apple\", \"IBM\", \"Oracle\", \"Amazon\"]"
      ]
    },
    {
      "cell_type": "code",
      "execution_count": null,
      "id": "18ef3cfe-cb3c-4a61-a7d8-86ac05f64665",
      "metadata": {
        "colab": {
          "base_uri": "https://localhost:8080/"
        },
        "id": "18ef3cfe-cb3c-4a61-a7d8-86ac05f64665",
        "outputId": "7b3cdfe5-342b-499d-cba2-5af813d56a70"
      },
      "outputs": [
        {
          "output_type": "stream",
          "name": "stdout",
          "text": [
            "['Facebook', 'Google', 'Microsoft', 'Apple', 'IBM', 'Oracle', 'Amazon']\n"
          ]
        }
      ],
      "source": [
        "#7. Print the list using print()\n",
        "print(it_companies)"
      ]
    },
    {
      "cell_type": "code",
      "execution_count": null,
      "id": "7d19c4a6-8ab2-4fcc-9d05-68372b48c9db",
      "metadata": {
        "colab": {
          "base_uri": "https://localhost:8080/"
        },
        "id": "7d19c4a6-8ab2-4fcc-9d05-68372b48c9db",
        "outputId": "2417ce21-bf70-4d7b-882c-991ad0093d9f"
      },
      "outputs": [
        {
          "output_type": "stream",
          "name": "stdout",
          "text": [
            "7\n"
          ]
        }
      ],
      "source": [
        "# 8. Print the number of companies in the list\n",
        "print(len(it_companies))"
      ]
    },
    {
      "cell_type": "code",
      "execution_count": null,
      "id": "0d146e56-a243-4326-9438-00c0930de807",
      "metadata": {
        "colab": {
          "base_uri": "https://localhost:8080/"
        },
        "id": "0d146e56-a243-4326-9438-00c0930de807",
        "outputId": "ba87aea8-f677-4f28-a98f-7d2b0d07b0d6"
      },
      "outputs": [
        {
          "output_type": "stream",
          "name": "stdout",
          "text": [
            "First company: Facebook\n",
            "Middle company: Apple\n",
            "Last company: Amazon\n"
          ]
        }
      ],
      "source": [
        "# 9. Print the first, middle and last company\n",
        "first_company = it_companies[0]\n",
        "middle_company = it_companies[len(it_companies) // 2]\n",
        "last_company = it_companies[-1]\n",
        "\n",
        "print(\"First company:\", first_company)\n",
        "print(\"Middle company:\", middle_company)\n",
        "print(\"Last company:\", last_company)"
      ]
    },
    {
      "cell_type": "code",
      "execution_count": null,
      "id": "4e833417-fb8f-473e-8459-3b0256a2ffd9",
      "metadata": {
        "colab": {
          "base_uri": "https://localhost:8080/"
        },
        "id": "4e833417-fb8f-473e-8459-3b0256a2ffd9",
        "outputId": "5c40df62-2245-4cf1-b9f0-6b7d225ac0df"
      },
      "outputs": [
        {
          "output_type": "stream",
          "name": "stdout",
          "text": [
            "['Meta', 'Google', 'Microsoft', 'Apple', 'IBM', 'Oracle', 'Amazon']\n"
          ]
        }
      ],
      "source": [
        "# 10. Print the list after modifying one of the companies\n",
        "it_companies[0] = \"Meta\" # Modifying the first company\n",
        "print(it_companies)"
      ]
    },
    {
      "cell_type": "code",
      "execution_count": null,
      "id": "5f489b23-42cc-4157-b89e-e62d1ff742f9",
      "metadata": {
        "colab": {
          "base_uri": "https://localhost:8080/"
        },
        "id": "5f489b23-42cc-4157-b89e-e62d1ff742f9",
        "outputId": "77980263-231a-47c1-929c-df78e3ad0d86"
      },
      "outputs": [
        {
          "output_type": "stream",
          "name": "stdout",
          "text": [
            "['Meta', 'Google', 'Microsoft', 'Apple', 'IBM', 'Oracle', 'Amazon', 'Netflix']\n"
          ]
        }
      ],
      "source": [
        "# 11. Add an IT company to it_companies\n",
        "it_companies.append(\"Netflix\")\n",
        "print(it_companies)"
      ]
    },
    {
      "cell_type": "code",
      "execution_count": null,
      "id": "61a14d8e-3d31-4d54-927d-6bf5db4a7f93",
      "metadata": {
        "colab": {
          "base_uri": "https://localhost:8080/"
        },
        "id": "61a14d8e-3d31-4d54-927d-6bf5db4a7f93",
        "outputId": "54976e59-4349-43d7-8584-da5ea558c630"
      },
      "outputs": [
        {
          "output_type": "stream",
          "name": "stdout",
          "text": [
            "['Meta', 'Google', 'Microsoft', 'Apple', 'Tesla', 'IBM', 'Oracle', 'Amazon', 'Netflix']\n"
          ]
        }
      ],
      "source": [
        "# 12. Insert an IT company in the middle of the companies list\n",
        "middle_index = len(it_companies) // 2\n",
        "it_companies.insert(middle_index, \"Tesla\") # Inserting \"Tesla\" in the middle\n",
        "print(it_companies)"
      ]
    },
    {
      "cell_type": "code",
      "execution_count": null,
      "id": "31c074f6-9898-497e-8e74-14fcfcbee970",
      "metadata": {
        "colab": {
          "base_uri": "https://localhost:8080/"
        },
        "id": "31c074f6-9898-497e-8e74-14fcfcbee970",
        "outputId": "e33607c1-7fa4-4ee6-d15e-b9d1fc67d485"
      },
      "outputs": [
        {
          "output_type": "stream",
          "name": "stdout",
          "text": [
            "['Meta', 'GOOGLE', 'Microsoft', 'Apple', 'Tesla', 'IBM', 'Oracle', 'Amazon', 'Netflix']\n"
          ]
        }
      ],
      "source": [
        "# 13. Change one of the it_companies names to uppercase (IBM excluded!)\n",
        "it_companies[1] = it_companies[1].upper() # Changing \"Google\" to uppercase\n",
        "print(it_companies)"
      ]
    },
    {
      "cell_type": "code",
      "execution_count": null,
      "id": "b83a8bf9-1294-46dd-a50a-770927a9a936",
      "metadata": {
        "colab": {
          "base_uri": "https://localhost:8080/"
        },
        "id": "b83a8bf9-1294-46dd-a50a-770927a9a936",
        "outputId": "5fe99817-2f0f-4fe1-a7c4-902a8bfc0372"
      },
      "outputs": [
        {
          "output_type": "stream",
          "name": "stdout",
          "text": [
            "Meta#;  GOOGLE#;  Microsoft#;  Apple#;  Tesla#;  IBM#;  Oracle#;  Amazon#;  Netflix\n"
          ]
        }
      ],
      "source": [
        "# 14. Join the it_companies with a string '#;  '\n",
        "joined_companies = '#;  '.join(it_companies)\n",
        "print(joined_companies)"
      ]
    },
    {
      "cell_type": "code",
      "execution_count": null,
      "id": "4d802201-c446-4046-a6b6-233db777fc23",
      "metadata": {
        "colab": {
          "base_uri": "https://localhost:8080/"
        },
        "id": "4d802201-c446-4046-a6b6-233db777fc23",
        "outputId": "ff9bbe2c-c6c6-4a24-e7dc-ca85bf18ee88"
      },
      "outputs": [
        {
          "output_type": "stream",
          "name": "stdout",
          "text": [
            "Google does not exist in the list.\n"
          ]
        }
      ],
      "source": [
        "# 15. Check if a certain company exists in the it_companies list.\n",
        "company_to_check = \"Google\"\n",
        "if company_to_check in it_companies:\n",
        "  print(f\"{company_to_check} exists in the list.\")\n",
        "else:\n",
        "  print(f\"{company_to_check} does not exist in the list.\")"
      ]
    },
    {
      "cell_type": "code",
      "execution_count": null,
      "id": "314aee47-adca-4c4e-b8c7-8185cc8e1fd7",
      "metadata": {
        "colab": {
          "base_uri": "https://localhost:8080/"
        },
        "id": "314aee47-adca-4c4e-b8c7-8185cc8e1fd7",
        "outputId": "46be66c9-2af2-4e2c-96aa-0e323b27285e"
      },
      "outputs": [
        {
          "output_type": "stream",
          "name": "stdout",
          "text": [
            "['Amazon', 'Apple', 'GOOGLE', 'IBM', 'Meta', 'Microsoft', 'Netflix', 'Oracle', 'Tesla']\n"
          ]
        }
      ],
      "source": [
        "# 16. Sort the list using sort() method\n",
        "it_companies.sort()\n",
        "print(it_companies)"
      ]
    },
    {
      "cell_type": "code",
      "execution_count": null,
      "id": "a95fb5fd-8797-4cd5-ba17-215f0e5d2946",
      "metadata": {
        "colab": {
          "base_uri": "https://localhost:8080/"
        },
        "id": "a95fb5fd-8797-4cd5-ba17-215f0e5d2946",
        "outputId": "93d04869-ae9a-45cf-d0ca-c074a09b8046"
      },
      "outputs": [
        {
          "output_type": "stream",
          "name": "stdout",
          "text": [
            "['Tesla', 'Oracle', 'Netflix', 'Microsoft', 'Meta', 'IBM', 'GOOGLE', 'Apple', 'Amazon']\n"
          ]
        }
      ],
      "source": [
        "# 17. Reverse the list in descending order using reverse() method\n",
        "it_companies.reverse()\n",
        "print(it_companies)"
      ]
    },
    {
      "cell_type": "code",
      "execution_count": null,
      "id": "0d3fd2d7-37e4-41e1-92cd-36fb3456f5ee",
      "metadata": {
        "colab": {
          "base_uri": "https://localhost:8080/"
        },
        "id": "0d3fd2d7-37e4-41e1-92cd-36fb3456f5ee",
        "outputId": "491507f0-9487-482b-bf9c-87272eb33df4"
      },
      "outputs": [
        {
          "output_type": "stream",
          "name": "stdout",
          "text": [
            "['Tesla', 'Oracle', 'Netflix']\n"
          ]
        }
      ],
      "source": [
        "# 18. Slice out the first 3 companies from the list\n",
        "first_three_companies = it_companies[:3]\n",
        "print(first_three_companies)"
      ]
    },
    {
      "cell_type": "code",
      "execution_count": null,
      "id": "ecba15b6-2f59-4632-8b4a-67545f5761dd",
      "metadata": {
        "colab": {
          "base_uri": "https://localhost:8080/"
        },
        "id": "ecba15b6-2f59-4632-8b4a-67545f5761dd",
        "outputId": "a93e0160-afb0-4435-e18b-ef2bdbc4cb25"
      },
      "outputs": [
        {
          "output_type": "stream",
          "name": "stdout",
          "text": [
            "['GOOGLE', 'Apple', 'Amazon']\n"
          ]
        }
      ],
      "source": [
        "# 19. Slice out the last 3 companies from the list\n",
        "last_three_companies = it_companies[-3:]\n",
        "print(last_three_companies)"
      ]
    },
    {
      "cell_type": "code",
      "execution_count": null,
      "id": "189ba7e4-c6f1-4f25-b978-39d66e0ce7f8",
      "metadata": {
        "colab": {
          "base_uri": "https://localhost:8080/"
        },
        "id": "189ba7e4-c6f1-4f25-b978-39d66e0ce7f8",
        "outputId": "216729d6-c102-46a0-94f6-9644cf955cea"
      },
      "outputs": [
        {
          "output_type": "stream",
          "name": "stdout",
          "text": [
            "['Meta']\n"
          ]
        }
      ],
      "source": [
        "# 20. Slice out the middle IT company or companies from the list\n",
        "middle_index = len(it_companies) // 2\n",
        "if len(it_companies) % 2 == 0:\n",
        "  # Even number of items, get the two middle items\n",
        "  middle_companies = it_companies[middle_index - 1 : middle_index + 1]\n",
        "else:\n",
        "  # Odd number of items, get the single middle item\n",
        "  middle_companies = [it_companies[middle_index]]\n",
        "\n",
        "print(middle_companies)"
      ]
    },
    {
      "cell_type": "code",
      "execution_count": null,
      "id": "f08fe2ae-89f7-43b5-94f2-d4df57ec8ddd",
      "metadata": {
        "colab": {
          "base_uri": "https://localhost:8080/"
        },
        "id": "f08fe2ae-89f7-43b5-94f2-d4df57ec8ddd",
        "outputId": "5f96cc79-b8c1-42fe-c197-dfeb7cfc6b88"
      },
      "outputs": [
        {
          "output_type": "stream",
          "name": "stdout",
          "text": [
            "['Oracle', 'Netflix', 'Microsoft', 'Meta', 'IBM', 'GOOGLE', 'Apple', 'Amazon']\n"
          ]
        }
      ],
      "source": [
        "# 21. Remove the first IT company from the list\n",
        "it_companies.pop(0) # or it_companies.remove(it_companies[0]) or del it_companies[0]\n",
        "print(it_companies)"
      ]
    },
    {
      "cell_type": "code",
      "execution_count": null,
      "id": "a06e1918-dfac-4be1-9aea-faab50101878",
      "metadata": {
        "colab": {
          "base_uri": "https://localhost:8080/"
        },
        "id": "a06e1918-dfac-4be1-9aea-faab50101878",
        "outputId": "47e55bfc-831c-471d-f6e0-856d290691cf"
      },
      "outputs": [
        {
          "output_type": "stream",
          "name": "stdout",
          "text": [
            "['Oracle', 'Netflix', 'Microsoft', 'GOOGLE', 'Apple', 'Amazon']\n"
          ]
        }
      ],
      "source": [
        "# 22. Remove the middle IT company or companies from the list\n",
        "middle_index = len(it_companies) // 2\n",
        "if len(it_companies) % 2 == 0:\n",
        "  # Even number of items, remove the two middle items\n",
        "  del it_companies[middle_index - 1 : middle_index + 1]\n",
        "else:\n",
        "  # Odd number of items, remove the single middle item\n",
        "  del it_companies[middle_index]\n",
        "\n",
        "print(it_companies)"
      ]
    },
    {
      "cell_type": "code",
      "execution_count": null,
      "id": "ad8da79d-0d3e-4028-89d7-0e44f7921bbe",
      "metadata": {
        "colab": {
          "base_uri": "https://localhost:8080/"
        },
        "id": "ad8da79d-0d3e-4028-89d7-0e44f7921bbe",
        "outputId": "0e040e9e-d022-4290-eb51-f3c07cef2602"
      },
      "outputs": [
        {
          "output_type": "stream",
          "name": "stdout",
          "text": [
            "['Oracle', 'Netflix', 'Microsoft', 'GOOGLE', 'Apple']\n"
          ]
        }
      ],
      "source": [
        "# 23. Remove the last IT company from the list\n",
        "it_companies.pop() # or del it_companies[-1]\n",
        "print(it_companies)"
      ]
    },
    {
      "cell_type": "code",
      "execution_count": null,
      "id": "75a4e29f-3d99-46d8-874a-7dfdb322f0b1",
      "metadata": {
        "colab": {
          "base_uri": "https://localhost:8080/"
        },
        "id": "75a4e29f-3d99-46d8-874a-7dfdb322f0b1",
        "outputId": "b8ad50bd-4f6a-40e3-8a95-6c2e01e2e7e2"
      },
      "outputs": [
        {
          "output_type": "stream",
          "name": "stdout",
          "text": [
            "[]\n"
          ]
        }
      ],
      "source": [
        "# 24. Remove all IT companies from the list\n",
        "it_companies.clear()\n",
        "print(it_companies)"
      ]
    },
    {
      "cell_type": "code",
      "execution_count": null,
      "id": "ead6d534-e733-465b-942f-bad54efa4b0e",
      "metadata": {
        "id": "ead6d534-e733-465b-942f-bad54efa4b0e"
      },
      "outputs": [],
      "source": [
        "# 25. Destroy the IT companies list\n",
        "del it_companies"
      ]
    },
    {
      "cell_type": "code",
      "execution_count": null,
      "id": "16fbc7a5-14b8-4388-9df0-4922ff5231ca",
      "metadata": {
        "colab": {
          "base_uri": "https://localhost:8080/"
        },
        "id": "16fbc7a5-14b8-4388-9df0-4922ff5231ca",
        "outputId": "da2c0670-6ca4-4158-b0a2-0920be574f99"
      },
      "outputs": [
        {
          "output_type": "stream",
          "name": "stdout",
          "text": [
            "['HTML', 'CSS', 'JS', 'React', 'Redux', 'Node', 'Express', 'MongoDB']\n"
          ]
        }
      ],
      "source": [
        "# 26. Join the following lists:\n",
        "# front_end = ['HTML', 'CSS', 'JS', 'React', 'Redux']\n",
        "# back_end = ['Node','Express', 'MongoDB']\n",
        "front_end = ['HTML', 'CSS', 'JS', 'React', 'Redux']\n",
        "back_end = ['Node','Express', 'MongoDB']\n",
        "joined_list = front_end + back_end\n",
        "print(joined_list)"
      ]
    },
    {
      "cell_type": "code",
      "execution_count": null,
      "id": "02cf8864-25b0-42bd-bfbf-53c1e38dcf41",
      "metadata": {
        "colab": {
          "base_uri": "https://localhost:8080/"
        },
        "id": "02cf8864-25b0-42bd-bfbf-53c1e38dcf41",
        "outputId": "9a757838-5e7c-4852-e577-fa48957d8872"
      },
      "outputs": [
        {
          "output_type": "stream",
          "name": "stdout",
          "text": [
            "['HTML', 'CSS', 'JS', 'React', 'Redux', 'Python', 'SQL', 'Node', 'Express', 'MongoDB']\n"
          ]
        }
      ],
      "source": [
        "# 27. After joining the lists in question 26. Copy the joined list and assign it to a\n",
        "# variable full_stack, then insert Python and SQL after Redux.\n",
        "full_stack = joined_list[:] # Copy the joined list\n",
        "redux_index = full_stack.index('Redux') # Find the index of 'Redux'\n",
        "full_stack.insert(redux_index + 1, 'Python') # Insert 'Python' after 'Redux'\n",
        "full_stack.insert(redux_index + 2, 'SQL') # Insert 'SQL' after 'Python'\n",
        "\n",
        "print(full_stack)"
      ]
    },
    {
      "cell_type": "markdown",
      "id": "2aebfb74-bcd3-4298-af1b-22f50e3e4e0b",
      "metadata": {
        "id": "2aebfb74-bcd3-4298-af1b-22f50e3e4e0b"
      },
      "source": [
        "#Second Set Assignment"
      ]
    },
    {
      "cell_type": "markdown",
      "id": "721c5cbb-e13b-46ee-a515-8d117b29f18e",
      "metadata": {
        "id": "721c5cbb-e13b-46ee-a515-8d117b29f18e"
      },
      "source": [
        "The following is a list of 10 students ages:\n",
        "ages = [19, 22, 19, 24, 20, 25, 26, 24, 25, 24]"
      ]
    },
    {
      "cell_type": "code",
      "execution_count": null,
      "id": "dd4ae415-b498-4f6d-8f23-3ca39f589cbf",
      "metadata": {
        "colab": {
          "base_uri": "https://localhost:8080/"
        },
        "id": "dd4ae415-b498-4f6d-8f23-3ca39f589cbf",
        "outputId": "48627a30-bb43-4ad6-ec91-58d1274dc4a4"
      },
      "outputs": [
        {
          "output_type": "stream",
          "name": "stdout",
          "text": [
            "Sorted ages: [19, 19, 20, 22, 24, 24, 24, 25, 25, 26]\n",
            "Minimum age: 19\n",
            "Maximum age: 26\n"
          ]
        }
      ],
      "source": [
        "# Sort the list and find the min and max age\n",
        "\n",
        "ages = [19, 22, 19, 24, 20, 25, 26, 24, 25, 24]\n",
        "\n",
        "# 1. Sort the list\n",
        "ages.sort()\n",
        "print(\"Sorted ages:\", ages)\n",
        "\n",
        "# 2. Find the min age\n",
        "min_age = ages[0]\n",
        "print(\"Minimum age:\", min_age)\n",
        "\n",
        "# 3. Find the max age\n",
        "max_age = ages[-1]\n",
        "print(\"Maximum age:\", max_age)"
      ]
    },
    {
      "cell_type": "code",
      "execution_count": null,
      "id": "200adfd6-3cd7-4a06-908a-7fb883b18409",
      "metadata": {
        "colab": {
          "base_uri": "https://localhost:8080/"
        },
        "id": "200adfd6-3cd7-4a06-908a-7fb883b18409",
        "outputId": "47eb1c8c-7c16-45cf-8cc0-cece2d87d99e"
      },
      "outputs": [
        {
          "output_type": "stream",
          "name": "stdout",
          "text": [
            "Ages after adding min and max: [19, 19, 20, 22, 24, 24, 24, 25, 25, 26, 19, 26]\n"
          ]
        }
      ],
      "source": [
        "# Add the min age and the max age again to the list\n",
        "ages.append(min_age)\n",
        "ages.append(max_age)\n",
        "print(\"Ages after adding min and max:\", ages)"
      ]
    },
    {
      "cell_type": "code",
      "execution_count": null,
      "id": "59ec9452-ee61-4ec4-941c-9bd9f61c45ac",
      "metadata": {
        "colab": {
          "base_uri": "https://localhost:8080/"
        },
        "id": "59ec9452-ee61-4ec4-941c-9bd9f61c45ac",
        "outputId": "95a24cdd-16b3-41e5-d4c4-15766a7e7eda"
      },
      "outputs": [
        {
          "output_type": "stream",
          "name": "stdout",
          "text": [
            "Median age: 24.0\n"
          ]
        }
      ],
      "source": [
        "# Find the median age (one middle item or two middle items divided by two)\n",
        "ages.sort() # Ensure the list is sorted first to find the median correctly\n",
        "n = len(ages)\n",
        "if n % 2 == 0:\n",
        "  # Even number of items, median is the average of the two middle items\n",
        "  mid1 = ages[n // 2 - 1]\n",
        "  mid2 = ages[n // 2]\n",
        "  median_age = (mid1 + mid2) / 2\n",
        "else:\n",
        "  # Odd number of items, median is the middle item\n",
        "  median_age = ages[n // 2]\n",
        "\n",
        "print(\"Median age:\", median_age)"
      ]
    },
    {
      "cell_type": "code",
      "execution_count": null,
      "id": "f55f973e-f02c-4806-b4f7-4ebb30256523",
      "metadata": {
        "colab": {
          "base_uri": "https://localhost:8080/"
        },
        "id": "f55f973e-f02c-4806-b4f7-4ebb30256523",
        "outputId": "73ec24c8-e200-40c4-bb08-94f6ada1bf87"
      },
      "outputs": [
        {
          "output_type": "stream",
          "name": "stdout",
          "text": [
            "Average age: 22.75\n"
          ]
        }
      ],
      "source": [
        "# Find the average age (sum of all items divided by their number )\n",
        "average_age = sum(ages) / len(ages)\n",
        "print(\"Average age:\", average_age)"
      ]
    },
    {
      "cell_type": "code",
      "execution_count": null,
      "id": "b1cc3a2d-eecc-430e-b210-9605ec042cd0",
      "metadata": {
        "colab": {
          "base_uri": "https://localhost:8080/"
        },
        "id": "b1cc3a2d-eecc-430e-b210-9605ec042cd0",
        "outputId": "5fb74995-17f8-46a6-b99d-6fdb713f3091"
      },
      "outputs": [
        {
          "output_type": "stream",
          "name": "stdout",
          "text": [
            "Range of ages: 7\n"
          ]
        }
      ],
      "source": [
        "# Find the range of the ages (max minus min)\n",
        "age_range = max_age - min_age\n",
        "print(\"Range of ages:\", age_range)"
      ]
    },
    {
      "cell_type": "code",
      "execution_count": null,
      "id": "ebd8f1f3-7051-453b-9de0-202c7054a7fb",
      "metadata": {
        "colab": {
          "base_uri": "https://localhost:8080/"
        },
        "id": "ebd8f1f3-7051-453b-9de0-202c7054a7fb",
        "outputId": "f86f17a7-ff62-42c5-bd3a-8c84ed9181e9"
      },
      "outputs": [
        {
          "output_type": "stream",
          "name": "stdout",
          "text": [
            "|min_age - average_age|: 3.75\n",
            "|max_age - average_age|: 3.25\n",
            "Absolute difference between min and average is greater than between max and average.\n"
          ]
        }
      ],
      "source": [
        "# Compare the value of (min - average) and (max - average), use abs() method\n",
        "min_diff = abs(min_age - average_age)\n",
        "max_diff = abs(max_age - average_age)\n",
        "\n",
        "print(f\"|min_age - average_age|: {min_diff}\")\n",
        "print(f\"|max_age - average_age|: {max_diff}\")\n",
        "\n",
        "if min_diff > max_diff:\n",
        "  print(\"Absolute difference between min and average is greater than between max and average.\")\n",
        "elif max_diff > min_diff:\n",
        "  print(\"Absolute difference between max and average is greater than between min and average.\")\n",
        "else:\n",
        "  print(\"Absolute differences are equal.\")"
      ]
    },
    {
      "cell_type": "code",
      "execution_count": null,
      "id": "248391f0-f822-40a3-b15c-79ce28b3abdf",
      "metadata": {
        "colab": {
          "base_uri": "https://localhost:8080/"
        },
        "id": "248391f0-f822-40a3-b15c-79ce28b3abdf",
        "outputId": "6beaefde-7b5e-4232-b66b-1ae645b2e290"
      },
      "outputs": [
        {
          "output_type": "stream",
          "name": "stdout",
          "text": [
            "Middle country(ies): ['Finland']\n"
          ]
        }
      ],
      "source": [
        "# Find the middle country(ies) in the countries list\n",
        "countries = ['China', 'Russia', 'USA', 'Finland', 'Sweden', 'Norway', 'Denmark']\n",
        "\n",
        "n = len(countries)\n",
        "middle_index = n // 2\n",
        "\n",
        "if n % 2 == 0:\n",
        "    # Even number of countries, get the two middle countries\n",
        "    middle_countries = countries[middle_index - 1:middle_index + 1]\n",
        "else:\n",
        "    # Odd number of countries, get the single middle country\n",
        "    middle_countries = [countries[middle_index]]\n",
        "\n",
        "print(\"Middle country(ies):\", middle_countries)"
      ]
    },
    {
      "cell_type": "code",
      "execution_count": null,
      "id": "450b75c9-6cd9-4cc0-9fb8-fde52c6de453",
      "metadata": {
        "colab": {
          "base_uri": "https://localhost:8080/"
        },
        "id": "450b75c9-6cd9-4cc0-9fb8-fde52c6de453",
        "outputId": "98267cd5-e00a-46e4-8b68-c72a092c650d"
      },
      "outputs": [
        {
          "output_type": "stream",
          "name": "stdout",
          "text": [
            "First half: ['China', 'Russia', 'USA', 'Finland']\n",
            "Second half: ['Sweden', 'Norway', 'Denmark']\n"
          ]
        }
      ],
      "source": [
        "# Divide the countries list into two equal lists if it is even if not one more country for the first half.\n",
        "countries = ['China', 'Russia', 'USA', 'Finland', 'Sweden', 'Norway', 'Denmark'] # Re-declaring countries for this task\n",
        "\n",
        "n = len(countries)\n",
        "middle_index = (n + 1) // 2 # This ensures the first half gets one more if n is odd\n",
        "\n",
        "first_half = countries[:middle_index]\n",
        "second_half = countries[middle_index:]\n",
        "\n",
        "print(\"First half:\", first_half)\n",
        "print(\"Second half:\", second_half)"
      ]
    },
    {
      "cell_type": "code",
      "execution_count": null,
      "id": "f271cd7c-dd09-4eb8-9226-da68d5a289b2",
      "metadata": {
        "colab": {
          "base_uri": "https://localhost:8080/"
        },
        "id": "f271cd7c-dd09-4eb8-9226-da68d5a289b2",
        "outputId": "99759d7f-cec3-4282-f323-c15e86796c05"
      },
      "outputs": [
        {
          "output_type": "stream",
          "name": "stdout",
          "text": [
            "First country: China\n",
            "Second country: Russia\n",
            "Third country: USA\n",
            "Scandic countries: ['Finland', 'Sweden', 'Norway', 'Denmark']\n"
          ]
        }
      ],
      "source": [
        "# ['China', 'Russia', 'USA', 'Finland', 'Sweden', 'Norway', 'Denmark']. Unpack the\n",
        "# first three countries and the rest as scandic countries.\n",
        "countries = ['China', 'Russia', 'USA', 'Finland', 'Sweden', 'Norway', 'Denmark']\n",
        "first_country, second_country, third_country, *scandic_countries = countries\n",
        "\n",
        "print(\"First country:\", first_country)\n",
        "print(\"Second country:\", second_country)\n",
        "print(\"Third country:\", third_country)\n",
        "print(\"Scandic countries:\", scandic_countries)"
      ]
    }
  ],
  "metadata": {
    "kernelspec": {
      "display_name": "Python 3 (ipykernel)",
      "language": "python",
      "name": "python3"
    },
    "language_info": {
      "codemirror_mode": {
        "name": "ipython",
        "version": 3
      },
      "file_extension": ".py",
      "mimetype": "text/x-python",
      "name": "python",
      "nbconvert_exporter": "python",
      "pygments_lexer": "ipython3",
      "version": "3.12.7"
    },
    "colab": {
      "provenance": []
    }
  },
  "nbformat": 4,
  "nbformat_minor": 5
}