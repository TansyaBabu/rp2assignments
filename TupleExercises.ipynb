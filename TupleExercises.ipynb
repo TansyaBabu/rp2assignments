{
  "cells": [
    {
      "cell_type": "markdown",
      "id": "403ae88f-1a02-4a8a-a148-78c273eae750",
      "metadata": {
        "id": "403ae88f-1a02-4a8a-a148-78c273eae750"
      },
      "source": [
        "### Exercises: Tuples"
      ]
    },
    {
      "cell_type": "code",
      "execution_count": null,
      "id": "1026f155-cd7c-433e-8301-845f7159d638",
      "metadata": {
        "colab": {
          "base_uri": "https://localhost:8080/"
        },
        "id": "1026f155-cd7c-433e-8301-845f7159d638",
        "outputId": "3d71a056-ff56-4e37-c0e5-d999f35733f5"
      },
      "outputs": [
        {
          "output_type": "stream",
          "name": "stdout",
          "text": [
            "()\n"
          ]
        }
      ],
      "source": [
        "# 1. Create an empty tuple\n",
        "empty_tuple = ()\n",
        "print(empty_tuple)"
      ]
    },
    {
      "cell_type": "code",
      "execution_count": null,
      "id": "b47ce189-aba9-43a6-a16c-1d5120105d70",
      "metadata": {
        "colab": {
          "base_uri": "https://localhost:8080/"
        },
        "id": "b47ce189-aba9-43a6-a16c-1d5120105d70",
        "outputId": "9f5f7248-640f-4718-8235-59d11535f086"
      },
      "outputs": [
        {
          "output_type": "stream",
          "name": "stdout",
          "text": [
            "Sisters: ('Alice', 'Eve')\n",
            "Brothers: ('Bob', 'Charlie')\n"
          ]
        }
      ],
      "source": [
        "# 2. Create a tuple containing names of your sisters and your brothers (imaginary siblings are fine)\n"
      ]
    },
    {
      "cell_type": "code",
      "execution_count": null,
      "id": "681fb7d0-cda0-47c8-949f-d62a92a7c496",
      "metadata": {
        "colab": {
          "base_uri": "https://localhost:8080/"
        },
        "id": "681fb7d0-cda0-47c8-949f-d62a92a7c496",
        "outputId": "674d1208-51be-4b6e-a40a-8e87135fab9e"
      },
      "outputs": [
        {
          "output_type": "stream",
          "name": "stdout",
          "text": [
            "Siblings: ('Alice', 'Eve', 'Bob', 'Charlie')\n"
          ]
        }
      ],
      "source": [
        "# 3. Join brothers and sisters tuples and assign it to siblings\n",
        "siblings = sisters + brothers\n",
        "print(\"Siblings:\", siblings)"
      ]
    },
    {
      "cell_type": "code",
      "execution_count": null,
      "id": "ecdd3608-13c6-4e97-bb21-e326ec1c0878",
      "metadata": {
        "colab": {
          "base_uri": "https://localhost:8080/"
        },
        "id": "ecdd3608-13c6-4e97-bb21-e326ec1c0878",
        "outputId": "076d0b3f-730a-4f1b-e5b2-0469468d714c"
      },
      "outputs": [
        {
          "output_type": "stream",
          "name": "stdout",
          "text": [
            "Number of siblings: 4\n"
          ]
        }
      ],
      "source": [
        "# 4. How many siblings do you have?\n",
        "num_siblings = len(siblings)\n",
        "print(\"Number of siblings:\", num_siblings)"
      ]
    },
    {
      "cell_type": "code",
      "execution_count": null,
      "id": "34683f88-9735-45af-845f-f52abc29533a",
      "metadata": {
        "colab": {
          "base_uri": "https://localhost:8080/"
        },
        "id": "34683f88-9735-45af-845f-f52abc29533a",
        "outputId": "e30b2f8b-0356-4f95-d66e-de9e0f2f26fa"
      },
      "outputs": [
        {
          "output_type": "stream",
          "name": "stdout",
          "text": [
            "Family members: ('Alice', 'Eve', 'Bob', 'Charlie', 'Father', 'Mother')\n"
          ]
        }
      ],
      "source": [
        "# 5. Modify the siblings tuple and add the name of your father and mother and assign it to family_members\n",
        "family_members = siblings + (\"Father\", \"Mother\")\n",
        "print(\"Family members:\", family_members)"
      ]
    },
    {
      "cell_type": "code",
      "execution_count": null,
      "id": "8e5d51d0-fdc2-4ab9-a83d-6e9384325a67",
      "metadata": {
        "colab": {
          "base_uri": "https://localhost:8080/"
        },
        "id": "8e5d51d0-fdc2-4ab9-a83d-6e9384325a67",
        "outputId": "c0447d6c-30f2-4a55-8173-62bad9aa85b1"
      },
      "outputs": [
        {
          "output_type": "stream",
          "name": "stdout",
          "text": [
            "Siblings: ('Alice', 'Eve', 'Bob', 'Charlie')\n",
            "Parents: ('Father', 'Mother')\n"
          ]
        }
      ],
      "source": [
        "# 6. Unpack siblings and parents from family_members\n",
        "siblings = family_members[:4]\n",
        "parents = family_members[4:]\n",
        "\n",
        "print(\"Siblings:\", siblings)\n",
        "print(\"Parents:\", parents)"
      ]
    },
    {
      "cell_type": "code",
      "execution_count": null,
      "id": "4cb60264-6b36-4104-b884-a98550645f5a",
      "metadata": {
        "id": "4cb60264-6b36-4104-b884-a98550645f5a"
      },
      "outputs": [],
      "source": [
        "# 7. Create fruits, vegetables and animal products tuples. Join the three tuples and\n",
        "# assign it to a variable called food_stuff_tp.\n"
      ]
    },
    {
      "cell_type": "code",
      "source": [
        "fruits = (\"apple\", \"banana\", \"orange\")\n",
        "vegetables = (\"carrot\", \"spinach\", \"broccoli\")\n",
        "animal_products = (\"milk\", \"eggs\", \"cheese\")\n",
        "\n",
        "food_stuff_tp = fruits + vegetables + animal_products"
      ],
      "metadata": {
        "id": "82ZyeeumUInu"
      },
      "id": "82ZyeeumUInu",
      "execution_count": null,
      "outputs": []
    },
    {
      "cell_type": "code",
      "execution_count": null,
      "id": "a900b2a8-d7e5-4256-a975-09a3ba091dbe",
      "metadata": {
        "colab": {
          "base_uri": "https://localhost:8080/"
        },
        "id": "a900b2a8-d7e5-4256-a975-09a3ba091dbe",
        "outputId": "f7a79c27-e89b-4bd6-bc4d-5df346a13aa6"
      },
      "outputs": [
        {
          "output_type": "stream",
          "name": "stdout",
          "text": [
            "['apple', 'banana', 'orange', 'carrot', 'spinach', 'broccoli', 'milk', 'eggs', 'cheese']\n"
          ]
        }
      ],
      "source": [
        "# 8. Change the about food_stuff_tp tuple to a food_stuff_lt list\n",
        "food_stuff_lt = list(food_stuff_tp)\n",
        "print(food_stuff_lt)"
      ]
    },
    {
      "cell_type": "code",
      "execution_count": null,
      "id": "dafc6ef2-9c02-45d3-ad81-5d5fd6842d97",
      "metadata": {
        "colab": {
          "base_uri": "https://localhost:8080/"
        },
        "id": "dafc6ef2-9c02-45d3-ad81-5d5fd6842d97",
        "outputId": "c75ef331-558f-4702-a5d1-ee426858c905"
      },
      "outputs": [
        {
          "output_type": "stream",
          "name": "stdout",
          "text": [
            "Middle item (list): spinach\n",
            "Middle item (tuple): spinach\n"
          ]
        }
      ],
      "source": [
        "# 9. Slice out the middle item or items from the food_stuff_tp tuple or food_stuff_lt list.\n",
        "middle_index = len(food_stuff_lt) // 2\n",
        "if len(food_stuff_lt) % 2 == 1:\n",
        "  # If the list has an odd number of items, slice the single middle item\n",
        "  middle_item = food_stuff_lt[middle_index]\n",
        "  print(\"Middle item (list):\", middle_item)\n",
        "else:\n",
        "  # If the list has an even number of items, slice the two middle items\n",
        "  middle_items = food_stuff_lt[middle_index - 1 : middle_index + 1]\n",
        "  print(\"Middle items (list):\", middle_items)\n",
        "\n",
        "# You can do the same for the tuple\n",
        "middle_index_tuple = len(food_stuff_tp) // 2\n",
        "if len(food_stuff_tp) % 2 == 1:\n",
        "  middle_item_tuple = food_stuff_tp[middle_index_tuple]\n",
        "  print(\"Middle item (tuple):\", middle_item_tuple)\n",
        "else:\n",
        "  middle_items_tuple = food_stuff_tp[middle_index_tuple - 1 : middle_index_tuple + 1]\n",
        "  print(\"Middle items (tuple):\", middle_items_tuple)"
      ]
    },
    {
      "cell_type": "code",
      "execution_count": null,
      "id": "fa0cf3bc-9086-43a5-9536-27aa8843a3d0",
      "metadata": {
        "colab": {
          "base_uri": "https://localhost:8080/"
        },
        "id": "fa0cf3bc-9086-43a5-9536-27aa8843a3d0",
        "outputId": "fd2a608f-35f9-4bf0-8457-c84e6787f7f0"
      },
      "outputs": [
        {
          "output_type": "stream",
          "name": "stdout",
          "text": [
            "First three items: ['apple', 'banana', 'orange']\n",
            "Last three items: ['milk', 'eggs', 'cheese']\n"
          ]
        }
      ],
      "source": [
        "# 10.  Slice out the first three items and the last three items from food_staff_lt list\n",
        "first_three_items = food_stuff_lt[:3]\n",
        "last_three_items = food_stuff_lt[-3:]\n",
        "\n",
        "print(\"First three items:\", first_three_items)\n",
        "print(\"Last three items:\", last_three_items)"
      ]
    },
    {
      "cell_type": "code",
      "execution_count": null,
      "id": "32d62f86-00ff-42ad-b1a4-83c9637220bd",
      "metadata": {
        "id": "32d62f86-00ff-42ad-b1a4-83c9637220bd"
      },
      "outputs": [],
      "source": [
        "# 11. Delete the food_staff_tp tuple completely\n",
        "del food_stuff_tp"
      ]
    },
    {
      "cell_type": "code",
      "execution_count": null,
      "id": "d786909d-d7d4-45ec-80ca-6feab7a6efd2",
      "metadata": {
        "colab": {
          "base_uri": "https://localhost:8080/"
        },
        "id": "d786909d-d7d4-45ec-80ca-6feab7a6efd2",
        "outputId": "0a1069eb-e49a-4ee5-9564-5b64372c888f"
      },
      "outputs": [
        {
          "output_type": "stream",
          "name": "stdout",
          "text": [
            "False\n",
            "True\n"
          ]
        }
      ],
      "source": [
        "# 12. Check if an item exists in tuple:\n",
        "# Check if 'Estonia' is a nordic country\n",
        "# Check if 'Iceland' is a nordic country\n",
        "nordic_countries = ('Denmark', 'Finland','Iceland', 'Norway', 'Sweden')\n",
        "\n",
        "print('Estonia' in nordic_countries)\n",
        "print('Iceland' in nordic_countries)"
      ]
    }
  ],
  "metadata": {
    "kernelspec": {
      "display_name": "Python 3 (ipykernel)",
      "language": "python",
      "name": "python3"
    },
    "language_info": {
      "codemirror_mode": {
        "name": "ipython",
        "version": 3
      },
      "file_extension": ".py",
      "mimetype": "text/x-python",
      "name": "python",
      "nbconvert_exporter": "python",
      "pygments_lexer": "ipython3",
      "version": "3.12.7"
    },
    "colab": {
      "provenance": []
    }
  },
  "nbformat": 4,
  "nbformat_minor": 5
}