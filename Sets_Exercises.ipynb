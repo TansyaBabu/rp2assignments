{
  "cells": [
    {
      "cell_type": "markdown",
      "id": "c354fdc5-828f-4a72-84a4-38c03a49d641",
      "metadata": {
        "id": "c354fdc5-828f-4a72-84a4-38c03a49d641"
      },
      "source": [
        "### Sets - Exercises"
      ]
    },
    {
      "cell_type": "code",
      "execution_count": null,
      "id": "0a7b0030-0947-4a39-ad5b-6ede9763ce8e",
      "metadata": {
        "id": "0a7b0030-0947-4a39-ad5b-6ede9763ce8e"
      },
      "outputs": [],
      "source": [
        "it_companies = {'Facebook', 'Google', 'Microsoft', 'Apple', 'IBM', 'Oracle', 'Amazon'}\n",
        "A = {19, 22, 24, 20, 25, 26}\n",
        "B = {19, 22, 20, 25, 26, 24, 28, 27}\n",
        "age = [22, 19, 24, 25, 26, 24, 25, 24]"
      ]
    },
    {
      "cell_type": "code",
      "execution_count": null,
      "id": "9906cb71-e6aa-4900-aa6d-060fc0ee0d3b",
      "metadata": {
        "colab": {
          "base_uri": "https://localhost:8080/"
        },
        "id": "9906cb71-e6aa-4900-aa6d-060fc0ee0d3b",
        "outputId": "0e8a679e-a42f-4483-97ae-f5f15d980eeb"
      },
      "outputs": [
        {
          "output_type": "stream",
          "name": "stdout",
          "text": [
            "7\n"
          ]
        }
      ],
      "source": [
        "# 1. Find the length of the set it_companies\n",
        "length_it_companies = len(it_companies)\n",
        "print(length_it_companies)"
      ]
    },
    {
      "cell_type": "code",
      "execution_count": null,
      "id": "ca13f143-4eae-4a53-87ad-ba060516ac3c",
      "metadata": {
        "colab": {
          "base_uri": "https://localhost:8080/"
        },
        "id": "ca13f143-4eae-4a53-87ad-ba060516ac3c",
        "outputId": "6a5820a9-29ff-4c85-c7c5-585e360ccae8"
      },
      "outputs": [
        {
          "output_type": "stream",
          "name": "stdout",
          "text": [
            "{'Microsoft', 'IBM', 'Google', 'Apple', 'AMD', 'Oracle', 'Nvidia', 'Facebook', 'Twitter', 'Amazon'}\n"
          ]
        }
      ],
      "source": [
        "# 2.Add 'Twitter' to it_companies\n",
        "it_companies.add('Twitter')\n",
        "print(it_companies)"
      ]
    },
    {
      "cell_type": "code",
      "execution_count": null,
      "id": "4d9edee2-9b1e-45a0-b333-0044aa4beca0",
      "metadata": {
        "colab": {
          "base_uri": "https://localhost:8080/"
        },
        "id": "4d9edee2-9b1e-45a0-b333-0044aa4beca0",
        "outputId": "b4c11138-6f1c-4b6e-dc73-d677aaa66cae"
      },
      "outputs": [
        {
          "output_type": "stream",
          "name": "stdout",
          "text": [
            "{'Microsoft', 'Tesla', 'IBM', 'Google', 'Apple', 'AMD', 'Oracle', 'Nvidia', 'Facebook', 'Twitter', 'Amazon'}\n"
          ]
        }
      ],
      "source": [
        "# 3. Insert multiple IT companies at once to the set it_companies\n",
        "new_companies = ['Tesla', 'Nvidia', 'AMD']\n",
        "it_companies.update(new_companies)\n",
        "print(it_companies)"
      ]
    },
    {
      "cell_type": "code",
      "execution_count": null,
      "id": "f23cf746-eb1e-4979-aced-0eda9f29ada8",
      "metadata": {
        "colab": {
          "base_uri": "https://localhost:8080/"
        },
        "id": "f23cf746-eb1e-4979-aced-0eda9f29ada8",
        "outputId": "40b1f8e8-ad44-4469-a935-b79e9f637649"
      },
      "outputs": [
        {
          "output_type": "stream",
          "name": "stdout",
          "text": [
            "{'Microsoft', 'IBM', 'Google', 'Apple', 'AMD', 'Oracle', 'Nvidia', 'Facebook', 'Twitter', 'Amazon'}\n"
          ]
        }
      ],
      "source": [
        "# 4. Remove one of the companies from the set it_companies\n",
        "it_companies.remove('Tesla')\n",
        "print(it_companies)"
      ]
    },
    {
      "cell_type": "code",
      "execution_count": null,
      "id": "0b0f20c8-3710-4cb5-83f0-a25a583dd639",
      "metadata": {
        "colab": {
          "base_uri": "https://localhost:8080/"
        },
        "id": "0b0f20c8-3710-4cb5-83f0-a25a583dd639",
        "outputId": "7c51e66f-bc70-4fad-aae2-b84430f89c5c"
      },
      "outputs": [
        {
          "output_type": "stream",
          "name": "stdout",
          "text": [
            "Set before discard(): {'Oracle', 'Microsoft', 'IBM', 'Nvidia', 'Google', 'Facebook', 'AMD', 'Apple', 'Twitter', 'Amazon'}\n",
            "Set after discard('Tesla'): {'Oracle', 'Microsoft', 'IBM', 'Nvidia', 'Google', 'Facebook', 'AMD', 'Apple', 'Twitter', 'Amazon'}\n",
            "Set after discard('Google'): {'Oracle', 'Microsoft', 'IBM', 'Nvidia', 'Facebook', 'AMD', 'Apple', 'Twitter', 'Amazon'}\n"
          ]
        }
      ],
      "source": [
        "# 5. What is the difference between remove and discard\n",
        "# Demonstrating discard() with a non-existing element\n",
        "it_companies = {'Microsoft', 'IBM', 'Google', 'Apple', 'AMD', 'Oracle', 'Nvidia', 'Facebook', 'Twitter', 'Amazon'} # Re-initializing for demonstration\n",
        "print(\"Set before discard():\", it_companies)\n",
        "it_companies.discard('Tesla') # 'Tesla' is not in the set\n",
        "print(\"Set after discard('Tesla'):\", it_companies)\n",
        "\n",
        "it_companies.discard('Google') # 'Google' is in the set\n",
        "print(\"Set after discard('Google'):\", it_companies)\n"
      ]
    },
    {
      "cell_type": "code",
      "execution_count": null,
      "id": "6f236ee3-0fed-481d-8653-7cb0a5383ef2",
      "metadata": {
        "colab": {
          "base_uri": "https://localhost:8080/"
        },
        "id": "6f236ee3-0fed-481d-8653-7cb0a5383ef2",
        "outputId": "06041b79-586d-4b84-8f97-f2ef8895b965"
      },
      "outputs": [
        {
          "output_type": "stream",
          "name": "stdout",
          "text": [
            "{19, 20, 22, 24, 25, 26, 27, 28}\n"
          ]
        }
      ],
      "source": [
        "# 6. Join A and B\n",
        "joined_set = A.union(B)\n",
        "# or joined_set = A | B\n",
        "print(joined_set)"
      ]
    },
    {
      "cell_type": "code",
      "execution_count": null,
      "id": "ddd10b0d-0a61-438e-a251-c2461584be36",
      "metadata": {
        "id": "ddd10b0d-0a61-438e-a251-c2461584be36"
      },
      "outputs": [],
      "source": [
        "# 7. Find A intersection B\n"
      ]
    },
    {
      "cell_type": "code",
      "source": [
        "A = {19, 22, 24, 20, 25, 26}\n",
        "B = {19, 22, 20, 25, 26, 24, 28, 27}\n",
        "\n",
        "# Find A intersection B\n",
        "intersection_set = A.intersection(B)\n",
        "# or intersection_set = A & B\n",
        "print(intersection_set)"
      ],
      "metadata": {
        "colab": {
          "base_uri": "https://localhost:8080/"
        },
        "id": "mzyf4naKdBpX",
        "outputId": "8a3c32f2-d76d-4fba-a34e-b0fe8fcf4a5d"
      },
      "id": "mzyf4naKdBpX",
      "execution_count": null,
      "outputs": [
        {
          "output_type": "stream",
          "name": "stdout",
          "text": [
            "{19, 20, 22, 24, 25, 26}\n"
          ]
        }
      ]
    },
    {
      "cell_type": "code",
      "execution_count": null,
      "id": "5bf01c41-c3fa-4603-a30f-060d972fca88",
      "metadata": {
        "colab": {
          "base_uri": "https://localhost:8080/"
        },
        "id": "5bf01c41-c3fa-4603-a30f-060d972fca88",
        "outputId": "eadc40cc-0482-4381-f58c-74cee853dd8e"
      },
      "outputs": [
        {
          "output_type": "stream",
          "name": "stdout",
          "text": [
            "True\n"
          ]
        }
      ],
      "source": [
        "# 8. Is A subset of B\n",
        "is_subset = A.issubset(B)\n",
        "print(is_subset)"
      ]
    },
    {
      "cell_type": "code",
      "execution_count": null,
      "id": "ef1dae52-491d-413d-a73c-c750dd394a4a",
      "metadata": {
        "colab": {
          "base_uri": "https://localhost:8080/"
        },
        "id": "ef1dae52-491d-413d-a73c-c750dd394a4a",
        "outputId": "41eac687-9972-472f-871c-8943ad3d7bc4"
      },
      "outputs": [
        {
          "output_type": "stream",
          "name": "stdout",
          "text": [
            "False\n"
          ]
        }
      ],
      "source": [
        "# 9. Are A and B disjoint sets\n",
        "is_disjoint = A.isdisjoint(B)\n",
        "print(is_disjoint)"
      ]
    },
    {
      "cell_type": "code",
      "execution_count": null,
      "id": "2906a6f5-2583-49fe-8c60-f2528eda9c44",
      "metadata": {
        "colab": {
          "base_uri": "https://localhost:8080/"
        },
        "id": "2906a6f5-2583-49fe-8c60-f2528eda9c44",
        "outputId": "82ecb4f9-299b-4e32-c1eb-3a1219a7197a"
      },
      "outputs": [
        {
          "output_type": "stream",
          "name": "stdout",
          "text": [
            "{19, 20, 22, 24, 25, 26, 27, 28}\n",
            "{19, 20, 22, 24, 25, 26, 27, 28}\n"
          ]
        }
      ],
      "source": [
        "# 10. Join A with B and B with A\n",
        "A_with_B = A.union(B)\n",
        "B_with_A = B.union(A)\n",
        "print(A_with_B)\n",
        "print(B_with_A)"
      ]
    },
    {
      "cell_type": "code",
      "execution_count": null,
      "id": "40183476-3374-47d7-857c-070301e00f1c",
      "metadata": {
        "colab": {
          "base_uri": "https://localhost:8080/"
        },
        "id": "40183476-3374-47d7-857c-070301e00f1c",
        "outputId": "8462382f-316a-4aa4-f648-6f7a65f70f12"
      },
      "outputs": [
        {
          "output_type": "stream",
          "name": "stdout",
          "text": [
            "{27, 28}\n"
          ]
        }
      ],
      "source": [
        "# 11. What is the symmetric difference between A and B\n",
        "symmetric_difference = A.symmetric_difference(B)\n",
        "print(symmetric_difference)"
      ]
    },
    {
      "cell_type": "code",
      "execution_count": null,
      "id": "13310309-8065-4369-bb0b-9ed7f1f59024",
      "metadata": {
        "id": "13310309-8065-4369-bb0b-9ed7f1f59024"
      },
      "outputs": [],
      "source": [
        " # 12. Delete the sets completely\n",
        " del A\n",
        " del B"
      ]
    },
    {
      "cell_type": "code",
      "execution_count": null,
      "id": "dd5f2b3a-df25-4b26-952d-84439f397d95",
      "metadata": {
        "colab": {
          "base_uri": "https://localhost:8080/"
        },
        "id": "dd5f2b3a-df25-4b26-952d-84439f397d95",
        "outputId": "bbe0fba6-215b-46e1-dc6a-fe427a3026a9"
      },
      "outputs": [
        {
          "output_type": "stream",
          "name": "stdout",
          "text": [
            "Original list: [22, 19, 24, 25, 26, 24, 25, 24]\n",
            "Converted set: {19, 22, 24, 25, 26}\n",
            "Length of the list: 8\n",
            "Length of the set: 5\n",
            "The length of the list is bigger than the length of the set.\n"
          ]
        }
      ],
      "source": [
        "# 13. Convert the ages to a set and compare the length of the list and the set, which one is bigger?\n",
        "age_set = set(age)\n",
        "print(\"Original list:\", age)\n",
        "print(\"Converted set:\", age_set)\n",
        "\n",
        "len_list = len(age)\n",
        "len_set = len(age_set)\n",
        "\n",
        "print(\"Length of the list:\", len_list)\n",
        "print(\"Length of the set:\", len_set)\n",
        "\n",
        "if len_list > len_set:\n",
        "    print(\"The length of the list is bigger than the length of the set.\")\n",
        "elif len_set > len_list:\n",
        "    print(\"The length of the set is bigger than the length of the list.\")\n",
        "else:\n",
        "    print(\"The length of the list and the set are the same.\")"
      ]
    },
    {
      "cell_type": "code",
      "execution_count": null,
      "id": "62d4bc84-ca64-4ed2-8175-a8cd653eb7cd",
      "metadata": {
        "colab": {
          "base_uri": "https://localhost:8080/"
        },
        "id": "62d4bc84-ca64-4ed2-8175-a8cd653eb7cd",
        "outputId": "c5f854af-850c-4e53-c8a1-e5fbde9371a1"
      },
      "outputs": [
        {
          "output_type": "stream",
          "name": "stdout",
          "text": [
            "Original sentence: I am a teacher and I love to inspire and teach people.\n",
            "List of words: ['I', 'am', 'a', 'teacher', 'and', 'I', 'love', 'to', 'inspire', 'and', 'teach', 'people.']\n",
            "Set of unique words: {'love', 'inspire', 'I', 'people.', 'and', 'teacher', 'a', 'am', 'teach', 'to'}\n",
            "Number of unique words: 10\n"
          ]
        }
      ],
      "source": [
        "# 14. \"I am a teacher and I love to inspire and teach people.\"\n",
        "# How many unique words have been used in the sentence? Use the split methods and set to get the unique words.\n",
        "sentence = \"I am a teacher and I love to inspire and teach people.\"\n",
        "words = sentence.split()\n",
        "unique_words = set(words)\n",
        "num_unique_words = len(unique_words)\n",
        "print(\"Original sentence:\", sentence)\n",
        "print(\"List of words:\", words)\n",
        "print(\"Set of unique words:\", unique_words)\n",
        "print(\"Number of unique words:\", num_unique_words)"
      ]
    },
    {
      "cell_type": "code",
      "execution_count": null,
      "id": "8492f961-62c3-4a75-9f7f-37afa6ba0b36",
      "metadata": {
        "colab": {
          "base_uri": "https://localhost:8080/"
        },
        "id": "8492f961-62c3-4a75-9f7f-37afa6ba0b36",
        "outputId": "2931df61-d6eb-4135-d6e2-c950a2ca4086"
      },
      "outputs": [
        {
          "output_type": "stream",
          "name": "stdout",
          "text": [
            "String: hello, Type: <class 'str'>\n",
            "List: [1, 'apple', 3.14, True], Type: <class 'list'>\n",
            "Tuple: (1, 'banana', 9.8, False), Type: <class 'tuple'>\n",
            "Set: {10, 20, 30}, Type: <class 'set'>\n"
          ]
        }
      ],
      "source": [
        "# 15. Explain the difference between the following data types: string, list, tuple and set\n",
        "\n",
        "# Strings: Immutable sequences of characters. Ordered.\n",
        "# Example:\n",
        "my_string = \"hello\"\n",
        "print(f\"String: {my_string}, Type: {type(my_string)}\")\n",
        "\n",
        "# Lists: Mutable ordered sequences of elements. Can contain elements of different data types.\n",
        "# Example:\n",
        "my_list = [1, \"apple\", 3.14, True]\n",
        "print(f\"List: {my_list}, Type: {type(my_list)}\")\n",
        "\n",
        "# Tuples: Immutable ordered sequences of elements. Can contain elements of different data types.\n",
        "# Example:\n",
        "my_tuple = (1, \"banana\", 9.8, False)\n",
        "print(f\"Tuple: {my_tuple}, Type: {type(my_tuple)}\")\n",
        "\n",
        "# Sets: Mutable unordered collections of unique elements.\n",
        "# Example:\n",
        "my_set = {10, 20, 30, 20} # Duplicate 20 is ignored\n",
        "print(f\"Set: {my_set}, Type: {type(my_set)}\")"
      ]
    },
    {
      "cell_type": "code",
      "metadata": {
        "id": "57d83e98"
      },
      "source": [],
      "id": "57d83e98",
      "execution_count": null,
      "outputs": []
    }
  ],
  "metadata": {
    "kernelspec": {
      "display_name": "Python 3 (ipykernel)",
      "language": "python",
      "name": "python3"
    },
    "language_info": {
      "codemirror_mode": {
        "name": "ipython",
        "version": 3
      },
      "file_extension": ".py",
      "mimetype": "text/x-python",
      "name": "python",
      "nbconvert_exporter": "python",
      "pygments_lexer": "ipython3",
      "version": "3.12.7"
    },
    "colab": {
      "provenance": []
    }
  },
  "nbformat": 4,
  "nbformat_minor": 5
}