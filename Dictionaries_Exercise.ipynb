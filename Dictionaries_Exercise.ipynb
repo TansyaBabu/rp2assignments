{
  "cells": [
    {
      "cell_type": "markdown",
      "id": "ca5621d4-6342-4176-a9d9-66ef7b1e7005",
      "metadata": {
        "id": "ca5621d4-6342-4176-a9d9-66ef7b1e7005"
      },
      "source": [
        "#### Dictionaries - Exercises"
      ]
    },
    {
      "cell_type": "code",
      "execution_count": null,
      "id": "532cece2-c933-43e5-a08d-009113e17b3b",
      "metadata": {
        "id": "532cece2-c933-43e5-a08d-009113e17b3b"
      },
      "outputs": [],
      "source": [
        "# 1. Create an empty dictionary called dogs\n",
        "dogs = {}"
      ]
    },
    {
      "cell_type": "code",
      "execution_count": null,
      "id": "b5f1e41e-5a37-4334-8c7a-b02e6cfc2e48",
      "metadata": {
        "id": "b5f1e41e-5a37-4334-8c7a-b02e6cfc2e48"
      },
      "outputs": [],
      "source": [
        "# 2. Add name, color, breed, legs, age to the dog dictionary\n"
      ]
    },
    {
      "cell_type": "code",
      "source": [
        "dogs['name'] = 'Buddy'\n",
        "dogs['color'] = 'Golden'\n",
        "dogs['breed'] = 'Labrador'\n",
        "dogs['legs'] = 4\n",
        "dogs['age'] = 3"
      ],
      "metadata": {
        "id": "VsnIeVLGI9OU"
      },
      "id": "VsnIeVLGI9OU",
      "execution_count": null,
      "outputs": []
    },
    {
      "cell_type": "code",
      "execution_count": null,
      "id": "8bdbb97f-ec52-4d94-9142-6900bc9a948f",
      "metadata": {
        "id": "8bdbb97f-ec52-4d94-9142-6900bc9a948f"
      },
      "outputs": [],
      "source": [
        "# 3. Create a student dictionary and add first_name, last_name, gender, age,\n",
        "    # marital status, skills, country, city and address as keys for the dictionary\n",
        "student = {\n",
        "    'first_name': '',\n",
        "    'last_name': '',\n",
        "    'gender': '',\n",
        "    'age': None,\n",
        "    'marital_status': '',\n",
        "    'skills': [],\n",
        "    'country': '',\n",
        "    'city': '',\n",
        "    'address': ''\n",
        "}"
      ]
    },
    {
      "cell_type": "code",
      "execution_count": null,
      "id": "b49fcafb-8a26-401f-8cfe-978eca7fd83e",
      "metadata": {
        "colab": {
          "base_uri": "https://localhost:8080/"
        },
        "id": "b49fcafb-8a26-401f-8cfe-978eca7fd83e",
        "outputId": "56d8e3d5-aa79-4232-f9b2-b8bbb494226f"
      },
      "outputs": [
        {
          "output_type": "execute_result",
          "data": {
            "text/plain": [
              "9"
            ]
          },
          "metadata": {},
          "execution_count": 7
        }
      ],
      "source": [
        "# 4. Get the length of the student dictionary\n",
        "len(student)"
      ]
    },
    {
      "cell_type": "code",
      "execution_count": null,
      "id": "72fa5725-2459-42e8-ac03-606aa5d8f7af",
      "metadata": {
        "colab": {
          "base_uri": "https://localhost:8080/"
        },
        "id": "72fa5725-2459-42e8-ac03-606aa5d8f7af",
        "outputId": "5d2d3cb0-d245-4177-95fe-c1b11ce08ae9"
      },
      "outputs": [
        {
          "output_type": "stream",
          "name": "stdout",
          "text": [
            "[]\n",
            "<class 'list'>\n"
          ]
        }
      ],
      "source": [
        "# 5. Get the value of skills and check the data type, it should be a list\n",
        "skills_value = student['skills']\n",
        "print(skills_value)\n",
        "print(type(skills_value))"
      ]
    },
    {
      "cell_type": "code",
      "execution_count": null,
      "id": "e8ea173a-50cc-4e57-b56e-9f0081cde762",
      "metadata": {
        "colab": {
          "base_uri": "https://localhost:8080/"
        },
        "id": "e8ea173a-50cc-4e57-b56e-9f0081cde762",
        "outputId": "9c8e8b20-a24d-4622-af5a-99caaea99f4f"
      },
      "outputs": [
        {
          "output_type": "stream",
          "name": "stdout",
          "text": [
            "['Python']\n"
          ]
        }
      ],
      "source": [
        "# 6. Modify the skills values by adding one or two skills\n",
        "student['skills'].append('Python')\n",
        "print(student['skills'])"
      ]
    },
    {
      "cell_type": "code",
      "execution_count": null,
      "id": "66d4247d-8d74-4393-840e-dc5123f24ff6",
      "metadata": {
        "colab": {
          "base_uri": "https://localhost:8080/"
        },
        "id": "66d4247d-8d74-4393-840e-dc5123f24ff6",
        "outputId": "771dda1d-f5a3-41be-b662-8260aa8f00d4"
      },
      "outputs": [
        {
          "output_type": "execute_result",
          "data": {
            "text/plain": [
              "['first_name',\n",
              " 'last_name',\n",
              " 'gender',\n",
              " 'age',\n",
              " 'marital_status',\n",
              " 'skills',\n",
              " 'country',\n",
              " 'city',\n",
              " 'address']"
            ]
          },
          "metadata": {},
          "execution_count": 11
        }
      ],
      "source": [
        "# 7. Get the dictionary keys as a list\n",
        "list(student.keys())"
      ]
    },
    {
      "cell_type": "code",
      "execution_count": null,
      "id": "e173a41e-3495-4f72-89c2-160618e42ffe",
      "metadata": {
        "colab": {
          "base_uri": "https://localhost:8080/"
        },
        "id": "e173a41e-3495-4f72-89c2-160618e42ffe",
        "outputId": "95aab82b-7917-4b88-d5a6-180e89d22b81"
      },
      "outputs": [
        {
          "output_type": "execute_result",
          "data": {
            "text/plain": [
              "['', '', '', None, '', ['Python'], '', '', '']"
            ]
          },
          "metadata": {},
          "execution_count": 12
        }
      ],
      "source": [
        "# 8. Get the dictionary values as a list\n",
        "list(student.values())"
      ]
    },
    {
      "cell_type": "code",
      "execution_count": null,
      "id": "23aa404e-953a-4b01-8646-ab7428daa746",
      "metadata": {
        "id": "23aa404e-953a-4b01-8646-ab7428daa746"
      },
      "outputs": [],
      "source": [
        "# 9. Change the dictionary to a list of tuples using items() method\n",
        "list_of_tuples = list(student.items())\n",
        "print(list_of_tuples)"
      ]
    },
    {
      "cell_type": "code",
      "execution_count": null,
      "id": "e4c3a0a9-c9d8-4ad8-9e9e-f61b92d06952",
      "metadata": {
        "colab": {
          "base_uri": "https://localhost:8080/"
        },
        "id": "e4c3a0a9-c9d8-4ad8-9e9e-f61b92d06952",
        "outputId": "cd5f5238-4dfc-4eeb-a42e-9fcb82802c85"
      },
      "outputs": [
        {
          "output_type": "stream",
          "name": "stdout",
          "text": [
            "{'first_name': '', 'last_name': '', 'gender': '', 'age': None, 'marital_status': '', 'skills': ['Python'], 'country': '', 'city': ''}\n"
          ]
        }
      ],
      "source": [
        "# 10. Delete one of the items in the dictionary\n",
        "del student['address']\n",
        "print(student)"
      ]
    },
    {
      "cell_type": "code",
      "execution_count": null,
      "id": "e868f738-ca08-47cb-90db-6284f2e05c42",
      "metadata": {
        "id": "e868f738-ca08-47cb-90db-6284f2e05c42"
      },
      "outputs": [],
      "source": [
        "# 11. Delete one of the dictionaries\n",
        "del student"
      ]
    },
    {
      "cell_type": "code",
      "metadata": {
        "id": "297665fd"
      },
      "source": [],
      "id": "297665fd",
      "execution_count": null,
      "outputs": []
    }
  ],
  "metadata": {
    "kernelspec": {
      "display_name": "Python 3 (ipykernel)",
      "language": "python",
      "name": "python3"
    },
    "language_info": {
      "codemirror_mode": {
        "name": "ipython",
        "version": 3
      },
      "file_extension": ".py",
      "mimetype": "text/x-python",
      "name": "python",
      "nbconvert_exporter": "python",
      "pygments_lexer": "ipython3",
      "version": "3.12.7"
    },
    "colab": {
      "provenance": []
    }
  },
  "nbformat": 4,
  "nbformat_minor": 5
}