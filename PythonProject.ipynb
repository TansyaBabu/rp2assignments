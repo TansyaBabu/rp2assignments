# Movie Ticket Booking System

# Movies with details
movies = {
    "Lokah": {
        "seats": {f"A{i}" for i in range(1, 11)},
        "theatre": "PVR Cinemas",
        "start_date": "2025-09-01",
        "end_date": "2025-09-30",
        "showtime": "9:00 AM"
    },
    "Kantara": {
        "seats": {f"B{i}" for i in range(1, 11)},
        "theatre": "PVR Cinemas",
        "start_date": "2025-09-15",
        "end_date": "2025-10-01",
        "showtime": "4:00 PM"
    },
    "Sarkeet": {
        "seats": {f"C{i}" for i in range(1, 11)},
        "theatre": "Saritha Theatre",
        "start_date": "2025-09-25",
        "end_date": "2025-10-15",
        "showtime": "10:30 AM"
    },
    "Hridyapoorvam": {
        "seats": {f"D{i}" for i in range(1, 11)},
        "theatre": "Saritha Theatre",
        "start_date": "2025-09-25",
        "end_date": "2025-10-14",
        "showtime": "7:45 PM"
    }
}

# Store original seat counts for stats
total_seats = {}
for movie, info in movies.items():
    total_seats[movie] = len(info["seats"])

# User bookings
bookings = {}

while True:
    print("\n--- Movie Ticket Booking System ---")
    print("1. View Movies")
    print("2. Book Tickets")
    print("3. Cancel Tickets")
    print("4. Check Availability")
    print("5. Search Movie")
    print("6. My Bookings")
    print("7. Movie Stats")
    print("8. Exit")

    choice = input("Enter choice (1-8): ")

    if choice == "1":
        for movie, info in movies.items():
            print(f"{movie} | Theatre: {info['theatre']} | Dates: {info['start_date']} to {info['end_date']} | "
                  f"Time: {info['showtime']} | Seats left: {len(info['seats'])}")

    elif choice == "2":
        name = input("Enter your name: ")
        movie = input("Enter movie name: ")

        if movie in movies:
            info = movies[movie]
            print(f"Theatre: {info['theatre']}, Time: {info['showtime']}")
            print(f"Available dates: {info['start_date']} to {info['end_date']}")
            date = input("Enter date (YYYY-MM-DD): ")

            # Check if chosen date is valid
            if info["start_date"] <= date <= info["end_date"]:
                print("Available seats:", sorted(info["seats"]))
                seats = input("Enter seat numbers (comma separated): ").split(",")
                seats = {seat.strip() for seat in seats}

                if seats.issubset(info["seats"]):
                    # Reserve seats
                    info["seats"] -= seats
                    if name not in bookings:
                        bookings[name] = []
                    bookings[name].append({
                        "movie": movie,
                        "seats": seats,
                        "theatre": info["theatre"],
                        "date": date,
                        "time": info["showtime"]
                    })
                    booking_number = len(bookings[name])
                    print(f"Booking successful! Seats: {sorted(seats)} (Booking Number: {booking_number})")
                else:
                    print("Some seats not available.")
            else:
                print("Invalid date.")
        else:
            print("Movie not found.")

    elif choice == "3":
        name = input("Enter your name: ")

        if name not in bookings or not bookings[name]:
            print("No bookings found.")
        else:
            for i, booking in enumerate(bookings[name], start=1):
                print(f"{i}. {booking['movie']} | Theatre: {booking['theatre']} | Date: {booking['date']} | "
                      f"Time: {booking['time']} | Seats: {sorted(booking['seats'])}")

            idx = int(input("Enter booking number to cancel: ")) - 1
            if 0 <= idx < len(bookings[name]):
                cancelled = bookings[name].pop(idx)
                movies[cancelled["movie"]]["seats"] |= cancelled["seats"]
                print("Cancelled:", sorted(cancelled["seats"]))
            else:
                print("Invalid choice.")

    elif choice == "4":
        movie = input("Enter movie name: ")
        if movie in movies:
            info = movies[movie]
            print(f"{movie} | Theatre: {info['theatre']} | Dates: {info['start_date']} to {info['end_date']} | "
                  f"Time: {info['showtime']}")
            print("Seats left:", len(info["seats"]))
            print("Available seats:", sorted(info["seats"]))
        else:
            print("Movie not found.")

    elif choice == "5":
        keyword = input("Enter search keyword: ").lower()
        found = False
        for movie, info in movies.items():
            if keyword in movie.lower():
                print(f"{movie} | Theatre: {info['theatre']} | Dates: {info['start_date']} to {info['end_date']} | "
                      f"Time: {info['showtime']} | Seats left: {len(info['seats'])}")
                found = True
        if not found:
            print("No movies found.")

    elif choice == "6":
        name = input("Enter your name: ")
        if name in bookings and bookings[name]:
            for booking in bookings[name]:
                print(f"{booking['movie']} | Theatre: {booking['theatre']} | Date: {booking['date']} | "
                      f"Time: {booking['time']} | Seats: {sorted(booking['seats'])}")
        else:
            print("No bookings yet.")

    elif choice == "7":
        for movie, info in movies.items():
            total = total_seats[movie]
            left = len(info["seats"])
            booked = total - left
            print(f"{movie}: Total={total}, Booked={booked}, Left={left} | Theatre: {info['theatre']} | "
                  f"Dates: {info['start_date']} to {info['end_date']} | Time: {info['showtime']}")

    elif choice == "8":
        print("Bye! See You Next Time")
        break

    else:
        print("Invalid choice.")
